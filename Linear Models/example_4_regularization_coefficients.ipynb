{
 "cells": [
  {
   "cell_type": "code",
   "execution_count": 38,
   "id": "75933bdd-9261-4f4b-8ba8-9f078f0d8776",
   "metadata": {},
   "outputs": [
    {
     "name": "stdout",
     "output_type": "stream",
     "text": [
      "Training set score: 0.958\n",
      "Test set score: 0.958\n"
     ]
    }
   ],
   "source": [
    "import matplotlib.pyplot as plt\n",
    "import numpy as np\n",
    "import mglearn\n",
    "from sklearn.linear_model import LogisticRegression\n",
    "from sklearn.svm import LinearSVC\n",
    "from sklearn.datasets import load_breast_cancer\n",
    "from sklearn.model_selection import train_test_split\n",
    "\n",
    "# Load the breast cancer dataset\n",
    "cancer = load_breast_cancer()\n",
    "\n",
    "# Split the dataset into training and testing sets with stratified sampling\n",
    "# `stratify=cancer.target` ensures that the class distribution in the train and test sets\n",
    "# matches the distribution in the original dataset.\n",
    "X_train, X_test, y_train, y_test = train_test_split(\n",
    "    cancer.data, cancer.target, stratify=cancer.target, random_state=42\n",
    ")\n",
    "\n",
    "# Create a Logistic Regression model with regularization parameter C=1\n",
    "# `max_iter=10000` ensures that the model has enough iterations to converge\n",
    "logreg = LogisticRegression(C=1, max_iter=10000).fit(X_train, y_train)\n",
    "\n",
    "# Print the accuracy of the model on the training set\n",
    "print(\"Training set score: {:.3f}\".format(logreg.score(X_train, y_train)))\n",
    "\n",
    "# Print the accuracy of the model on the test set\n",
    "print(\"Test set score: {:.3f}\".format(logreg.score(X_test, y_test)))"
   ]
  },
  {
   "cell_type": "code",
   "execution_count": 39,
   "id": "e3c60888-39a9-4b07-bd39-edf8e899d4d0",
   "metadata": {},
   "outputs": [
    {
     "name": "stdout",
     "output_type": "stream",
     "text": [
      "Training set score: 0.953\n",
      "Test set score: 0.951\n"
     ]
    }
   ],
   "source": [
    "# Create a Logistic Regression model with regularization parameter C=0.01\n",
    "logreg001 = LogisticRegression(C=0.01, max_iter=10000).fit(X_train, y_train)\n",
    "\n",
    "# Print the accuracy of the model on the training set\n",
    "print(\"Training set score: {:.3f}\".format(logreg001.score(X_train, y_train)))\n",
    "\n",
    "# Print the accuracy of the model on the test set\n",
    "print(\"Test set score: {:.3f}\".format(logreg001.score(X_test, y_test)))"
   ]
  },
  {
   "cell_type": "code",
   "execution_count": 40,
   "id": "82ab2de1-7e4b-466f-b108-ead988d02003",
   "metadata": {},
   "outputs": [
    {
     "name": "stdout",
     "output_type": "stream",
     "text": [
      "Training set score: 0.979\n",
      "Test set score: 0.965\n"
     ]
    }
   ],
   "source": [
    "# Create a Logistic Regression model with regularization parameter C=100\n",
    "logreg100 = LogisticRegression(C=100,max_iter=10000).fit(X_train, y_train)\n",
    "\n",
    "# Print the accuracy of the model on the training set\n",
    "print(\"Training set score: {:.3f}\".format(logreg100.score(X_train, y_train)))\n",
    "\n",
    "# Print the accuracy of the model on the test set\n",
    "print(\"Test set score: {:.3f}\".format(logreg100.score(X_test, y_test)))"
   ]
  },
  {
   "cell_type": "code",
   "execution_count": 41,
   "id": "35dcb560-925d-4ddc-834e-a125d7e3df09",
   "metadata": {},
   "outputs": [
    {
     "data": {
      "image/png": "[encoded data removed]",
      "text/plain": [
       "<Figure size 640x480 with 1 Axes>"
      ]
     },
     "metadata": {},
     "output_type": "display_data"
    }
   ],
   "source": [
    "# Plot the coefficients of the logistic regression model for C=1\n",
    "plt.plot(logreg.coef_.T, 'o', label=\"C=1\")\n",
    "\n",
    "# Plot the coefficients of the logistic regression model for C=100\n",
    "plt.plot(logreg100.coef_.T, '^', label=\"C=100\")\n",
    "\n",
    "# Plot the coefficients of the logistic regression model for C=0.001\n",
    "plt.plot(logreg001.coef_.T, 'v', label=\"C=0.001\")\n",
    "\n",
    "# Set x-axis ticks \n",
    "# plt.xticks(range(cancer.data.shape[1]), cancer.feature_names, rotation=90)\n",
    "\n",
    "# Draw a horizontal line at y=0 to indicate the baseline for coefficient magnitude\n",
    "plt.hlines(0, 0, cancer.data.shape[1])\n",
    "\n",
    "# Set the limits of the y-axis to range between -5 and 5\n",
    "plt.ylim(-5, 5)\n",
    "\n",
    "# Label the x-axis as \"Coefficient index\"\n",
    "plt.xlabel(\"Coefficient index\")\n",
    "\n",
    "# Label the y-axis as \"Coefficient magnitude\"\n",
    "plt.ylabel(\"Coefficient magnitude\")\n",
    "\n",
    "# Add a legend \n",
    "plt.legend()\n",
    "\n",
    "# Save the figure as SVG \n",
    "plt.savefig(\"cof4.svg\")"
   ]
  },
  {
   "cell_type": "code",
   "execution_count": 30,
   "id": "a7b0de42-caa6-4771-a986-c769f60791a8",
   "metadata": {},
   "outputs": [
    {
     "name": "stdout",
     "output_type": "stream",
     "text": [
      "Training set score: 0.960\n",
      "Test set score: 0.958\n",
      "Number of features used: 10\n"
     ]
    }
   ],
   "source": [
    "# Create a Logistic Regression model with regularization parameter C=1 and L1 regression\n",
    "logreg = LogisticRegression(C=1, max_iter=10000, penalty=\"l1\", solver='liblinear').fit(X_train, y_train)\n",
    "\n",
    "# Print the accuracy of the model on the training set\n",
    "print(\"Training set score: {:.3f}\".format(logreg.score(X_train, y_train)))\n",
    "\n",
    "# Print the accuracy of the model on the test set\n",
    "print(\"Test set score: {:.3f}\".format(logreg.score(X_test, y_test)))\n",
    "\n",
    "# The number of features used\n",
    "print(\"Number of features used: {}\".format(np.sum(logreg.coef_ != 0)))"
   ]
  },
  {
   "cell_type": "code",
   "execution_count": 31,
   "id": "05a2267c-9683-46cc-ad9b-bfd4dff50888",
   "metadata": {},
   "outputs": [
    {
     "name": "stdout",
     "output_type": "stream",
     "text": [
      "Training set score: 0.918\n",
      "Test set score: 0.930\n",
      "Number of features used: 4\n"
     ]
    }
   ],
   "source": [
    "# Create a Logistic Regression model with regularization parameter C=0.01 and L1 regression\n",
    "logreg001 = LogisticRegression(C=0.01, max_iter=10000, penalty=\"l1\", solver='liblinear').fit(X_train, y_train)\n",
    "\n",
    "# Print the accuracy of the model on the training set\n",
    "print(\"Training set score: {:.3f}\".format(logreg001.score(X_train, y_train)))\n",
    "\n",
    "# Print the accuracy of the model on the test set\n",
    "print(\"Test set score: {:.3f}\".format(logreg001.score(X_test, y_test)))\n",
    "\n",
    "# The number of features used\n",
    "print(\"Number of features used: {}\".format(np.sum(logreg001.coef_ != 0)))"
   ]
  },
  {
   "cell_type": "code",
   "execution_count": 32,
   "id": "6d86ae5d-8f9f-454c-89e0-8a31b050a5fd",
   "metadata": {},
   "outputs": [
    {
     "name": "stdout",
     "output_type": "stream",
     "text": [
      "Training set score: 0.986\n",
      "Test set score: 0.979\n",
      "Number of features used: 23\n"
     ]
    }
   ],
   "source": [
    "# Create a Logistic Regression model with regularization parameter C=100 and L1 regression\n",
    "logreg100 = LogisticRegression(C=100, max_iter=10000, penalty=\"l1\", solver='liblinear').fit(X_train, y_train)\n",
    "\n",
    "# Print the accuracy of the model on the training set\n",
    "print(\"Training set score: {:.3f}\".format(logreg100.score(X_train, y_train)))\n",
    "\n",
    "# Print the accuracy of the model on the test set\n",
    "print(\"Test set score: {:.3f}\".format(logreg100.score(X_test, y_test)))\n",
    "\n",
    "# The number of features used\n",
    "print(\"Number of features used: {}\".format(np.sum(logreg100.coef_ != 0)))"
   ]
  },
  {
   "cell_type": "code",
   "execution_count": 35,
   "id": "6960e60c-642e-486c-bff1-3850ab813fab",
   "metadata": {},
   "outputs": [
    {
     "data": {
      "image/png": "[encoded data removed]",
      "text/plain": [
       "<Figure size 640x480 with 1 Axes>"
      ]
     },
     "metadata": {},
     "output_type": "display_data"
    }
   ],
   "source": [
    "# Plot the coefficients of the logistic regression model for C=1 and L1 regression\n",
    "plt.plot(logreg.coef_.T, 'o', label=\"C=1\")\n",
    "\n",
    "# Plot the coefficients of the logistic regression model for C=100 and L1 regression\n",
    "plt.plot(logreg100.coef_.T, '^', label=\"C=100\")\n",
    "\n",
    "# Plot the coefficients of the logistic regression model for C=0.001 and L1 regression\n",
    "plt.plot(logreg001.coef_.T, 'v', label=\"C=0.001\")\n",
    "\n",
    "# Set x-axis ticks \n",
    "# plt.xticks(range(cancer.data.shape[1]), cancer.feature_names, rotation=90)\n",
    "\n",
    "# Draw a horizontal line at y=0 to indicate the baseline for coefficient magnitude\n",
    "plt.hlines(0, 0, cancer.data.shape[1])\n",
    "\n",
    "# Set the limits of the y-axis to range between -5 and 5\n",
    "plt.ylim(-5, 5)\n",
    "\n",
    "# Label the x-axis as \"Coefficient index\"\n",
    "plt.xlabel(\"Coefficient index\")\n",
    "\n",
    "# Label the y-axis as \"Coefficient magnitude\"\n",
    "plt.ylabel(\"Coefficient magnitude\")\n",
    "\n",
    "# Add a legend \n",
    "plt.legend()\n",
    "\n",
    "# Save the figure as SVG \n",
    "plt.savefig(\"cof3.svg\")"
   ]
  },
  {
   "cell_type": "code",
   "execution_count": null,
   "id": "eb5c6caf-0e00-4c17-8476-65356ee1e9f7",
   "metadata": {},
   "outputs": [],
   "source": []
  }
 ],
 "metadata": {
  "kernelspec": {
   "display_name": "Python 3 (ipykernel)",
   "language": "python",
   "name": "python3"
  },
  "language_info": {
   "codemirror_mode": {
    "name": "ipython",
    "version": 3
   },
   "file_extension": ".py",
   "mimetype": "text/x-python",
   "name": "python",
   "nbconvert_exporter": "python",
   "pygments_lexer": "ipython3",
   "version": "3.13.0"
  }
 },
 "nbformat": 4,
 "nbformat_minor": 5
}
